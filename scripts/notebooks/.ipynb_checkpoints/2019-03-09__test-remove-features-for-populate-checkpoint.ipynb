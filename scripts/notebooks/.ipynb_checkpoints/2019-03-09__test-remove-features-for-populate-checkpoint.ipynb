{
 "cells": [
  {
   "cell_type": "code",
   "execution_count": 1,
   "metadata": {},
   "outputs": [],
   "source": [
    "import cplex\n",
    "import pandas as pd\n",
    "from sklearn.linear_model import LogisticRegression\n",
    "from recourse.paths import *\n",
    "from recourse.builder import RecourseBuilder, _SOLVER_TYPE_CBC, _SOLVER_TYPE_CPX\n",
    "from recourse.action_set import ActionSet\n",
    "import numpy as np\n",
    "\n",
    "data_name = 'german'\n",
    "data_file = test_dir / ('%s_processed.csv' % data_name)\n",
    "\n",
    "## load dataset\n",
    "data_df = pd.read_csv(data_file)\n",
    "outcome_name = data_df.columns[0]\n",
    "y = data_df[outcome_name]\n",
    "X = data_df.drop([outcome_name, 'Gender', 'PurposeOfLoan', 'OtherLoansAtStore'], axis=1)\n",
    "\n",
    "# setup actionset\n",
    "action_set = ActionSet(X = X)\n",
    "immutable_attributes = ['Age', 'Single', 'JobClassIsSkilled', 'ForeignWorker', 'OwnsHouse', 'RentsHouse']\n",
    "action_set[immutable_attributes].mutable = False\n",
    "action_set['CriticalAccountOrLoansElsewhere'].step_direction = -1\n",
    "action_set['CheckingAccountBalance_geq_0'].step_direction = 1\n",
    "\n",
    "# fit classifier, get median score, and get denied individuals.\n",
    "clf = LogisticRegression(max_iter=1000, solver = 'lbfgs')\n",
    "clf.fit(X, y)\n",
    "coefficients = clf.coef_[0]\n",
    "intercept = clf.intercept_[0]\n",
    "scores = pd.Series(clf.predict_proba(X)[:, 1])\n",
    "p = scores.median()\n",
    "denied_individuals = scores.loc[lambda s: s <= p].index\n",
    "\n",
    "idx = denied_individuals[0]\n",
    "x = X.values[idx]\n",
    "\n",
    "## CPLEX\n",
    "fb_cplex = RecourseBuilder(\n",
    "    solver=_SOLVER_TYPE_CPX,\n",
    "    coefficients=coefficients,\n",
    "    intercept=intercept - (np.log(p / (1. - p))),\n",
    "    action_set=action_set,\n",
    "    x=x\n",
    ")\n",
    "cplex_solution = fb_cplex.fit()\n",
    "\n",
    "## CBC\n",
    "fb_cbc = RecourseBuilder(\n",
    "    solver=_SOLVER_TYPE_CBC,\n",
    "    coefficients=coefficients,\n",
    "    intercept=intercept - (np.log(p / (1. - p))),\n",
    "    action_set=action_set,\n",
    "    x=x\n",
    ")\n",
    "cbc_solution = fb_cbc.fit()"
   ]
  },
  {
   "cell_type": "code",
   "execution_count": 4,
   "metadata": {},
   "outputs": [],
   "source": [
    "fb_cbc.set_mip_min_items(10)"
   ]
  },
  {
   "cell_type": "code",
   "execution_count": 27,
   "metadata": {},
   "outputs": [],
   "source": [
    "fb_cbc.mip.u[(4, 0)].setlb(10)"
   ]
  },
  {
   "cell_type": "code",
   "execution_count": 28,
   "metadata": {},
   "outputs": [
    {
     "data": {
      "text/plain": [
       "10"
      ]
     },
     "execution_count": 28,
     "metadata": {},
     "output_type": "execute_result"
    }
   ],
   "source": [
    "fb_cbc.mip.u[(4, 0)].lb"
   ]
  },
  {
   "cell_type": "code",
   "execution_count": 34,
   "metadata": {},
   "outputs": [],
   "source": [
    "fb_cbc.mip.c4 = Constraint()"
   ]
  },
  {
   "cell_type": "code",
   "execution_count": 6,
   "metadata": {},
   "outputs": [],
   "source": [
    "t = fb_cbc._mip_indices['action_off_names']"
   ]
  },
  {
   "cell_type": "code",
   "execution_count": 34,
   "metadata": {},
   "outputs": [
    {
     "data": {
      "text/plain": [
       "array([ True,  True,  True])"
      ]
     },
     "execution_count": 34,
     "metadata": {},
     "output_type": "execute_result"
    }
   ],
   "source": [
    "np.isclose([0, 0, 0], 0)"
   ]
  },
  {
   "cell_type": "code",
   "execution_count": 50,
   "metadata": {},
   "outputs": [],
   "source": [
    "fb_cbc.mip.__dict__['c10'] = 10"
   ]
  },
  {
   "cell_type": "code",
   "execution_count": 51,
   "metadata": {},
   "outputs": [
    {
     "data": {
      "text/plain": [
       "10"
      ]
     },
     "execution_count": 51,
     "metadata": {},
     "output_type": "execute_result"
    }
   ],
   "source": [
    "fb_cbc.mip.c10"
   ]
  },
  {
   "cell_type": "code",
   "execution_count": 9,
   "metadata": {},
   "outputs": [],
   "source": [
    "import re"
   ]
  },
  {
   "cell_type": "code",
   "execution_count": 14,
   "metadata": {},
   "outputs": [
    {
     "data": {
      "text/plain": [
       "['3', '0']"
      ]
     },
     "execution_count": 14,
     "metadata": {},
     "output_type": "execute_result"
    }
   ],
   "source": [
    "re.findall('\\d+', '[3][0]')"
   ]
  },
  {
   "cell_type": "code",
   "execution_count": 22,
   "metadata": {},
   "outputs": [],
   "source": [
    "t2 = list(map(lambda x: , t))"
   ]
  },
  {
   "cell_type": "code",
   "execution_count": 30,
   "metadata": {},
   "outputs": [
    {
     "name": "stdout",
     "output_type": "stream",
     "text": [
      "0.0\n",
      "0.0\n",
      "1.0\n",
      "1.0\n",
      "1.0\n",
      "0.0\n",
      "1.0\n",
      "0.0\n",
      "0.0\n",
      "1.0\n"
     ]
    }
   ],
   "source": [
    "for i in t2:\n",
    "    print(fb_cbc.mip.u[i]())"
   ]
  },
  {
   "cell_type": "code",
   "execution_count": 54,
   "metadata": {},
   "outputs": [
    {
     "data": {
      "text/plain": [
       "[(3, 0),\n",
       " (4, 0),\n",
       " (5, 0),\n",
       " (6, 0),\n",
       " (9, 0),\n",
       " (11, 0),\n",
       " (12, 0),\n",
       " (13, 0),\n",
       " (19, 0),\n",
       " (24, 0)]"
      ]
     },
     "execution_count": 54,
     "metadata": {},
     "output_type": "execute_result"
    }
   ],
   "source": [
    "t2"
   ]
  },
  {
   "cell_type": "code",
   "execution_count": 53,
   "metadata": {},
   "outputs": [
    {
     "data": {
      "text/plain": [
       "6"
      ]
     },
     "execution_count": 53,
     "metadata": {},
     "output_type": "execute_result"
    }
   ],
   "source": [
    "sum(map(lambda x: x, range(4)))"
   ]
  },
  {
   "cell_type": "code",
   "execution_count": 55,
   "metadata": {},
   "outputs": [
    {
     "data": {
      "text/plain": [
       "45"
      ]
     },
     "execution_count": 55,
     "metadata": {},
     "output_type": "execute_result"
    }
   ],
   "source": [
    "sum(i for i in range(10))"
   ]
  },
  {
   "cell_type": "code",
   "execution_count": null,
   "metadata": {},
   "outputs": [],
   "source": []
  },
  {
   "cell_type": "code",
   "execution_count": null,
   "metadata": {},
   "outputs": [],
   "source": []
  },
  {
   "cell_type": "code",
   "execution_count": 2,
   "metadata": {},
   "outputs": [
    {
     "data": {
      "text/plain": [
       "{'cost': 0.11099996,\n",
       " 'feasible': True,\n",
       " 'status': 'optimal',\n",
       " 'costs': array([0.        , 0.        , 0.        , 0.00754527, 0.00648911,\n",
       "        0.        , 0.        , 0.        , 0.        , 0.        ,\n",
       "        0.        , 0.06299998, 0.        , 0.11099996, 0.        ,\n",
       "        0.        , 0.        , 0.        , 0.        , 0.05199999,\n",
       "        0.        , 0.        , 0.        , 0.        , 0.        ,\n",
       "        0.        ]),\n",
       " 'actions': array([   0.,    0.,    0.,   -1., -144.,    0.,    0.,    0.,    0.,\n",
       "           0.,    0.,    1.,    0.,    1.,    0.,    0.,    0.,    0.,\n",
       "           0.,    1.,    0.,    0.,    0.,    0.,    0.,    0.]),\n",
       " 'upperbound': inf,\n",
       " 'lowerbound': inf,\n",
       " 'gap': inf,\n",
       " 'iterations': 0,\n",
       " 'nodes_processed': 0,\n",
       " 'nodes_remaining': 0,\n",
       " 'runtime': 0.015625}"
      ]
     },
     "execution_count": 2,
     "metadata": {},
     "output_type": "execute_result"
    }
   ],
   "source": [
    "cbc_solution"
   ]
  },
  {
   "cell_type": "code",
   "execution_count": 12,
   "metadata": {},
   "outputs": [],
   "source": [
    "action_series = pd.Series(cplex_solution['actions'], index=X.columns)"
   ]
  },
  {
   "cell_type": "code",
   "execution_count": 15,
   "metadata": {},
   "outputs": [
    {
     "data": {
      "text/plain": [
       "ForeignWorker                      0.0\n",
       "Single                             0.0\n",
       "Age                                0.0\n",
       "LoanDuration                       0.0\n",
       "LoanAmount                         0.0\n",
       "LoanRateAsPercentOfIncome         -0.0\n",
       "YearsAtCurrentHome                -0.0\n",
       "NumberOfOtherLoansAtBank           0.0\n",
       "NumberOfLiableIndividuals          0.0\n",
       "HasTelephone                       0.0\n",
       "CheckingAccountBalance_geq_0       0.0\n",
       "CheckingAccountBalance_geq_200     1.0\n",
       "SavingsAccountBalance_geq_100      0.0\n",
       "SavingsAccountBalance_geq_500      1.0\n",
       "MissedPayments                     0.0\n",
       "NoCurrentLoan                      0.0\n",
       "CriticalAccountOrLoansElsewhere    0.0\n",
       "OtherLoansAtBank                   0.0\n",
       "HasCoapplicant                     0.0\n",
       "HasGuarantor                       1.0\n",
       "OwnsHouse                          0.0\n",
       "RentsHouse                         0.0\n",
       "Unemployed                         0.0\n",
       "YearsAtCurrentJob_lt_1             0.0\n",
       "YearsAtCurrentJob_geq_4            0.0\n",
       "JobClassIsSkilled                  0.0\n",
       "dtype: float64"
      ]
     },
     "execution_count": 15,
     "metadata": {},
     "output_type": "execute_result"
    }
   ],
   "source": [
    "action_series"
   ]
  },
  {
   "cell_type": "code",
   "execution_count": 11,
   "metadata": {},
   "outputs": [
    {
     "data": {
      "text/plain": [
       "['u[3][0]',\n",
       " 'u[4][0]',\n",
       " 'u[5][0]',\n",
       " 'u[6][0]',\n",
       " 'u[9][0]',\n",
       " 'u[11][0]',\n",
       " 'u[12][0]',\n",
       " 'u[13][0]',\n",
       " 'u[19][0]',\n",
       " 'u[24][0]']"
      ]
     },
     "execution_count": 11,
     "metadata": {},
     "output_type": "execute_result"
    }
   ],
   "source": [
    "fb_cplex._mip_indices['action_off_names']"
   ]
  },
  {
   "cell_type": "code",
   "execution_count": 18,
   "metadata": {},
   "outputs": [
    {
     "data": {
      "text/plain": [
       "10"
      ]
     },
     "execution_count": 18,
     "metadata": {},
     "output_type": "execute_result"
    }
   ],
   "source": [
    "len(fb_cplex._mip_indices['coefficients'])"
   ]
  },
  {
   "cell_type": "code",
   "execution_count": 19,
   "metadata": {},
   "outputs": [
    {
     "data": {
      "text/plain": [
       "10"
      ]
     },
     "execution_count": 19,
     "metadata": {},
     "output_type": "execute_result"
    }
   ],
   "source": [
    "len(fb_cplex._mip_indices['action_off_names'])"
   ]
  },
  {
   "cell_type": "code",
   "execution_count": 20,
   "metadata": {},
   "outputs": [
    {
     "data": {
      "text/plain": [
       "['u[3][0]',\n",
       " 'u[4][0]',\n",
       " 'u[5][0]',\n",
       " 'u[6][0]',\n",
       " 'u[9][0]',\n",
       " 'u[11][0]',\n",
       " 'u[12][0]',\n",
       " 'u[13][0]',\n",
       " 'u[19][0]',\n",
       " 'u[24][0]']"
      ]
     },
     "execution_count": 20,
     "metadata": {},
     "output_type": "execute_result"
    }
   ],
   "source": [
    "fb_cplex._mip_indices['action_off_names']"
   ]
  },
  {
   "cell_type": "code",
   "execution_count": 26,
   "metadata": {},
   "outputs": [],
   "source": [
    "actions, percentiles = fb_cplex._action_set.feasible_grid(fb_cplex._x, return_actions=True, return_percentiles=True, return_immutable=False)"
   ]
  },
  {
   "cell_type": "code",
   "execution_count": 36,
   "metadata": {},
   "outputs": [
    {
     "data": {
      "text/plain": [
       "[('LoanDuration',\n",
       "  array([-42., -41., -40., -39., -38., -37., -36., -35., -34., -33., -32.,\n",
       "         -31., -30., -29., -28., -27., -26., -25., -24., -23., -22., -21.,\n",
       "         -20., -19., -18., -17., -16., -15., -14., -13., -12., -11., -10.,\n",
       "          -9.,  -8.,  -7.,  -6.,  -5.,  -4.,  -3.,  -2.,  -1.,   0.])),\n",
       " ('LoanAmount',\n",
       "  array([-5526., -5388., -5250., -5112., -4974., -4836., -4698., -4560.,\n",
       "         -4422., -4284., -4146., -4008., -3870., -3732., -3594., -3456.,\n",
       "         -3318., -3180., -3042., -2904., -2766., -2628., -2490., -2352.,\n",
       "         -2214., -2076., -1938., -1800., -1662., -1524., -1386., -1248.,\n",
       "         -1110.,  -972.,  -834.,  -696.,  -558.,  -420.,  -282.,  -144.,\n",
       "            -6.,     0.])),\n",
       " ('LoanRateAsPercentOfIncome', array([-1.,  0.])),\n",
       " ('YearsAtCurrentHome', array([-1.,  0.])),\n",
       " ('HasTelephone', array([0., 1.])),\n",
       " ('CheckingAccountBalance_geq_200', array([0., 1.])),\n",
       " ('SavingsAccountBalance_geq_100', array([0., 1.])),\n",
       " ('SavingsAccountBalance_geq_500', array([0., 1.])),\n",
       " ('HasGuarantor', array([0., 1.])),\n",
       " ('YearsAtCurrentJob_geq_4', array([0., 1.]))]"
      ]
     },
     "execution_count": 36,
     "metadata": {},
     "output_type": "execute_result"
    }
   ],
   "source": [
    "list((filter(lambda x: len(x[1]) >= 2, actions.items())))"
   ]
  },
  {
   "cell_type": "code",
   "execution_count": null,
   "metadata": {},
   "outputs": [],
   "source": []
  },
  {
   "cell_type": "code",
   "execution_count": null,
   "metadata": {},
   "outputs": [],
   "source": []
  },
  {
   "cell_type": "code",
   "execution_count": null,
   "metadata": {},
   "outputs": [],
   "source": []
  },
  {
   "cell_type": "code",
   "execution_count": 37,
   "metadata": {},
   "outputs": [],
   "source": [
    "### if the action_off_index ==0, that means the feature is on."
   ]
  },
  {
   "cell_type": "code",
   "execution_count": null,
   "metadata": {},
   "outputs": [],
   "source": [
    "def remove_all_features(self):\n",
    "    \"\"\"\n",
    "    removes feature combination from feasible region of MIP\n",
    "    :return:\n",
    "    \"\"\"\n",
    "    mip = self._mip\n",
    "    names = self._mip_indices['action_off_names']\n",
    "    values = np.array(mip.solution.get_values(names))\n",
    "    on_idx = np.flatnonzero(np.isclose(values, 0.0))\n",
    "    \n",
    "    ### set a lower bound of 1\n",
    "    mip.variables.set_lower_bounds([(names[j], 1.0) for j in on_idx])"
   ]
  },
  {
   "cell_type": "code",
   "execution_count": null,
   "metadata": {},
   "outputs": [],
   "source": []
  },
  {
   "cell_type": "code",
   "execution_count": null,
   "metadata": {},
   "outputs": [],
   "source": []
  },
  {
   "cell_type": "code",
   "execution_count": 41,
   "metadata": {},
   "outputs": [],
   "source": [
    "u_names = fb_cplex._mip_indices['action_off_names']"
   ]
  },
  {
   "cell_type": "code",
   "execution_count": 43,
   "metadata": {},
   "outputs": [],
   "source": [
    "mip = fb_cplex._mip\n",
    "feature_off_idxs = fb_cplex._mip_indices['action_off_names']\n",
    "u = np.array(mip.solution.get_values(feature_off_idxs))\n",
    "## if the \"off index\" are off (i.e. = 0), that means the action is \"on\"\n",
    "on_idx = np.isclose(u, 0.0)"
   ]
  },
  {
   "cell_type": "code",
   "execution_count": 45,
   "metadata": {},
   "outputs": [],
   "source": [
    "n = len(feature_off_idxs)\n",
    "con_vals = np.ones(n, dtype = np.float_)\n",
    "con_vals[on_idx] = -1.0\n",
    "con_rhs = n - 1 - np.sum(on_idx)"
   ]
  },
  {
   "cell_type": "code",
   "execution_count": 46,
   "metadata": {},
   "outputs": [
    {
     "data": {
      "text/plain": [
       "6"
      ]
     },
     "execution_count": 46,
     "metadata": {},
     "output_type": "execute_result"
    }
   ],
   "source": [
    "con_rhs"
   ]
  },
  {
   "cell_type": "code",
   "execution_count": 47,
   "metadata": {},
   "outputs": [
    {
     "data": {
      "text/plain": [
       "array([ 1.,  1.,  1.,  1.,  1., -1.,  1., -1., -1.,  1.])"
      ]
     },
     "execution_count": 47,
     "metadata": {},
     "output_type": "execute_result"
    }
   ],
   "source": [
    "con_vals"
   ]
  },
  {
   "cell_type": "code",
   "execution_count": 49,
   "metadata": {},
   "outputs": [
    {
     "data": {
      "text/plain": [
       "3"
      ]
     },
     "execution_count": 49,
     "metadata": {},
     "output_type": "execute_result"
    }
   ],
   "source": [
    "np.sum(on_idx)"
   ]
  },
  {
   "cell_type": "code",
   "execution_count": 50,
   "metadata": {},
   "outputs": [
    {
     "data": {
      "text/plain": [
       "array([1., 1., 1., 1., 1., 0., 1., 0., 0., 1.])"
      ]
     },
     "execution_count": 50,
     "metadata": {},
     "output_type": "execute_result"
    }
   ],
   "source": [
    "u"
   ]
  },
  {
   "cell_type": "code",
   "execution_count": 51,
   "metadata": {},
   "outputs": [
    {
     "data": {
      "text/plain": [
       "10"
      ]
     },
     "execution_count": 51,
     "metadata": {},
     "output_type": "execute_result"
    }
   ],
   "source": [
    "n"
   ]
  },
  {
   "cell_type": "code",
   "execution_count": 55,
   "metadata": {},
   "outputs": [],
   "source": [
    "t = pd.Series(data=con_vals, index=u_names)"
   ]
  },
  {
   "cell_type": "code",
   "execution_count": 76,
   "metadata": {},
   "outputs": [],
   "source": [
    "t = t.to_frame('con vals')"
   ]
  },
  {
   "cell_type": "code",
   "execution_count": 83,
   "metadata": {},
   "outputs": [],
   "source": [
    "t['u'] = u"
   ]
  },
  {
   "cell_type": "code",
   "execution_count": 84,
   "metadata": {},
   "outputs": [
    {
     "data": {
      "text/html": [
       "<div>\n",
       "<style scoped>\n",
       "    .dataframe tbody tr th:only-of-type {\n",
       "        vertical-align: middle;\n",
       "    }\n",
       "\n",
       "    .dataframe tbody tr th {\n",
       "        vertical-align: top;\n",
       "    }\n",
       "\n",
       "    .dataframe thead th {\n",
       "        text-align: right;\n",
       "    }\n",
       "</style>\n",
       "<table border=\"1\" class=\"dataframe\">\n",
       "  <thead>\n",
       "    <tr style=\"text-align: right;\">\n",
       "      <th></th>\n",
       "      <th>con vals</th>\n",
       "      <th>u</th>\n",
       "    </tr>\n",
       "  </thead>\n",
       "  <tbody>\n",
       "    <tr>\n",
       "      <th>u[3][0]</th>\n",
       "      <td>1.0</td>\n",
       "      <td>1.0</td>\n",
       "    </tr>\n",
       "    <tr>\n",
       "      <th>u[4][0]</th>\n",
       "      <td>1.0</td>\n",
       "      <td>1.0</td>\n",
       "    </tr>\n",
       "    <tr>\n",
       "      <th>u[5][0]</th>\n",
       "      <td>1.0</td>\n",
       "      <td>1.0</td>\n",
       "    </tr>\n",
       "    <tr>\n",
       "      <th>u[6][0]</th>\n",
       "      <td>1.0</td>\n",
       "      <td>1.0</td>\n",
       "    </tr>\n",
       "    <tr>\n",
       "      <th>u[9][0]</th>\n",
       "      <td>1.0</td>\n",
       "      <td>1.0</td>\n",
       "    </tr>\n",
       "    <tr>\n",
       "      <th>u[11][0]</th>\n",
       "      <td>-1.0</td>\n",
       "      <td>0.0</td>\n",
       "    </tr>\n",
       "    <tr>\n",
       "      <th>u[12][0]</th>\n",
       "      <td>1.0</td>\n",
       "      <td>1.0</td>\n",
       "    </tr>\n",
       "    <tr>\n",
       "      <th>u[13][0]</th>\n",
       "      <td>-1.0</td>\n",
       "      <td>0.0</td>\n",
       "    </tr>\n",
       "    <tr>\n",
       "      <th>u[19][0]</th>\n",
       "      <td>-1.0</td>\n",
       "      <td>0.0</td>\n",
       "    </tr>\n",
       "    <tr>\n",
       "      <th>u[24][0]</th>\n",
       "      <td>1.0</td>\n",
       "      <td>1.0</td>\n",
       "    </tr>\n",
       "  </tbody>\n",
       "</table>\n",
       "</div>"
      ],
      "text/plain": [
       "          con vals    u\n",
       "u[3][0]        1.0  1.0\n",
       "u[4][0]        1.0  1.0\n",
       "u[5][0]        1.0  1.0\n",
       "u[6][0]        1.0  1.0\n",
       "u[9][0]        1.0  1.0\n",
       "u[11][0]      -1.0  0.0\n",
       "u[12][0]       1.0  1.0\n",
       "u[13][0]      -1.0  0.0\n",
       "u[19][0]      -1.0  0.0\n",
       "u[24][0]       1.0  1.0"
      ]
     },
     "execution_count": 84,
     "metadata": {},
     "output_type": "execute_result"
    }
   ],
   "source": [
    "t"
   ]
  },
  {
   "cell_type": "code",
   "execution_count": 87,
   "metadata": {},
   "outputs": [
    {
     "data": {
      "text/plain": [
       "7.0"
      ]
     },
     "execution_count": 87,
     "metadata": {},
     "output_type": "execute_result"
    }
   ],
   "source": [
    "t.apply(lambda x: x['con vals'] * x['u'], axis=1).sum()"
   ]
  },
  {
   "cell_type": "code",
   "execution_count": 91,
   "metadata": {},
   "outputs": [
    {
     "data": {
      "text/plain": [
       "7.0"
      ]
     },
     "execution_count": 91,
     "metadata": {},
     "output_type": "execute_result"
    }
   ],
   "source": [
    "t['con vals'].dot(t['u'])"
   ]
  },
  {
   "cell_type": "code",
   "execution_count": null,
   "metadata": {},
   "outputs": [],
   "source": []
  },
  {
   "cell_type": "code",
   "execution_count": 73,
   "metadata": {},
   "outputs": [
    {
     "data": {
      "text/plain": [
       "'1.0 * u[3][0]  +  1.0 * u[4][0]  +  1.0 * u[5][0]  +  1.0 * u[6][0]  +  1.0 * u[9][0]  +  -1.0 * u[11][0]  +  1.0 * u[12][0]  +  -1.0 * u[13][0]  +  -1.0 * u[19][0]  +  1.0 * u[24][0]'"
      ]
     },
     "execution_count": 73,
     "metadata": {},
     "output_type": "execute_result"
    }
   ],
   "source": [
    "'  +  '.join(map(lambda x: '%s * %s' %(x[1], x[0]), list(t.iteritems())))"
   ]
  },
  {
   "cell_type": "code",
   "execution_count": 57,
   "metadata": {},
   "outputs": [
    {
     "data": {
      "text/plain": [
       "4.0"
      ]
     },
     "execution_count": 57,
     "metadata": {},
     "output_type": "execute_result"
    }
   ],
   "source": [
    "t.sum()"
   ]
  },
  {
   "cell_type": "code",
   "execution_count": 59,
   "metadata": {},
   "outputs": [
    {
     "data": {
      "text/plain": [
       "3"
      ]
     },
     "execution_count": 59,
     "metadata": {},
     "output_type": "execute_result"
    }
   ],
   "source": [
    "sum(on_idx)"
   ]
  },
  {
   "cell_type": "code",
   "execution_count": 63,
   "metadata": {},
   "outputs": [
    {
     "data": {
      "text/plain": [
       "6"
      ]
     },
     "execution_count": 63,
     "metadata": {},
     "output_type": "execute_result"
    }
   ],
   "source": [
    "n - 1 - 3"
   ]
  },
  {
   "cell_type": "code",
   "execution_count": 64,
   "metadata": {},
   "outputs": [
    {
     "data": {
      "text/plain": [
       "6"
      ]
     },
     "execution_count": 64,
     "metadata": {},
     "output_type": "execute_result"
    }
   ],
   "source": [
    "sum(~on_idx) - 1"
   ]
  },
  {
   "cell_type": "code",
   "execution_count": 65,
   "metadata": {},
   "outputs": [
    {
     "data": {
      "text/plain": [
       "4.0"
      ]
     },
     "execution_count": 65,
     "metadata": {},
     "output_type": "execute_result"
    }
   ],
   "source": [
    "t.sum()"
   ]
  },
  {
   "cell_type": "code",
   "execution_count": null,
   "metadata": {},
   "outputs": [],
   "source": []
  },
  {
   "cell_type": "code",
   "execution_count": null,
   "metadata": {},
   "outputs": [],
   "source": []
  },
  {
   "cell_type": "code",
   "execution_count": 105,
   "metadata": {},
   "outputs": [],
   "source": [
    "fb_cbc.build_mip()"
   ]
  },
  {
   "cell_type": "code",
   "execution_count": 107,
   "metadata": {},
   "outputs": [],
   "source": [
    "mip = fb_cbc._mip"
   ]
  },
  {
   "cell_type": "code",
   "execution_count": 110,
   "metadata": {},
   "outputs": [],
   "source": [
    "fb_cbc._results = optimizer.solve(mip)"
   ]
  },
  {
   "cell_type": "code",
   "execution_count": 115,
   "metadata": {},
   "outputs": [
    {
     "data": {
      "text/plain": [
       "EnumValue(<pyutilib.enum.enum.Enum object at 0x00000265F46508D0>, 0, 'ok')"
      ]
     },
     "execution_count": 115,
     "metadata": {},
     "output_type": "execute_result"
    }
   ],
   "source": [
    "fb_cbc._results.solver.status"
   ]
  },
  {
   "cell_type": "code",
   "execution_count": 117,
   "metadata": {},
   "outputs": [
    {
     "data": {
      "text/plain": [
       "EnumValue(<pyutilib.enum.enum.Enum object at 0x00000265F46508D0>, 0, 'ok')"
      ]
     },
     "execution_count": 117,
     "metadata": {},
     "output_type": "execute_result"
    }
   ],
   "source": [
    "SolverStatus.ok"
   ]
  },
  {
   "cell_type": "code",
   "execution_count": 122,
   "metadata": {},
   "outputs": [
    {
     "data": {
      "text/plain": [
       "<pyomo.opt.results.container.ListContainer at 0x265fbc2ac50>"
      ]
     },
     "execution_count": 122,
     "metadata": {},
     "output_type": "execute_result"
    }
   ],
   "source": [
    "fb_cbc._results.solver"
   ]
  },
  {
   "cell_type": "code",
   "execution_count": 138,
   "metadata": {},
   "outputs": [
    {
     "data": {
      "text/plain": [
       "False"
      ]
     },
     "execution_count": 138,
     "metadata": {},
     "output_type": "execute_result"
    }
   ],
   "source": [
    "fb_cbc._results.solver.termination_condition == TerminationCondition.infeasible"
   ]
  },
  {
   "cell_type": "code",
   "execution_count": 140,
   "metadata": {},
   "outputs": [
    {
     "data": {
      "text/plain": [
       "<pyomo.core.base.PyomoModel.AbstractModel at 0x265faa4f318>"
      ]
     },
     "execution_count": 140,
     "metadata": {},
     "output_type": "execute_result"
    }
   ],
   "source": [
    "fb_cbc.model"
   ]
  },
  {
   "cell_type": "code",
   "execution_count": null,
   "metadata": {},
   "outputs": [],
   "source": []
  }
 ],
 "metadata": {
  "kernelspec": {
   "display_name": "Python 3",
   "language": "python",
   "name": "python3"
  },
  "language_info": {
   "codemirror_mode": {
    "name": "ipython",
    "version": 3
   },
   "file_extension": ".py",
   "mimetype": "text/x-python",
   "name": "python",
   "nbconvert_exporter": "python",
   "pygments_lexer": "ipython3",
   "version": "3.6.7"
  }
 },
 "nbformat": 4,
 "nbformat_minor": 2
}
