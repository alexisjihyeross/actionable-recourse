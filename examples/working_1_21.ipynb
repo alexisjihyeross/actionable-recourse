{
 "cells": [
  {
   "cell_type": "markdown",
   "metadata": {},
   "source": [
    "Hello! Thank you for checking out our tool.\n",
    "\n",
    "The purpose of this demo is demonstrate some of the basics. In doing so, we will generate a flipset for one individual. In doing so, we'll show:\n",
    "\n",
    "1. How to use the ActionSet interface to specify immutable variables and variables with custom ranges.\n",
    "2. How to use a model to align an ActionSet\n",
    "3. How to use the RecourseBuilder interface to find the feasibility of one person.\n",
    "\n",
    "We'll work using CPLEX. The problem is equivalent for CBC. To install either package, read [here](https://github.com/ustunb/actionable-recourse/blob/master/README.md)."
   ]
  },
  {
   "cell_type": "code",
   "execution_count": 2,
   "metadata": {},
   "outputs": [],
   "source": [
    "import os\n",
    "import numpy as np\n",
    "import pandas as pd\n",
    "from sklearn.linear_model import LogisticRegression\n",
    "from sklearn.model_selection import GridSearchCV\n",
    "import sys\n",
    "module_path = os.path.abspath(os.path.join('..'))\n",
    "if module_path not in sys.path:\n",
    "    sys.path.append(module_path)\n",
    "from recourse.builder import RecourseBuilder\n",
    "from recourse.builder import ActionSet\n"
   ]
  },
  {
   "cell_type": "markdown",
   "metadata": {},
   "source": [
    "# Read in the data"
   ]
  },
  {
   "cell_type": "markdown",
   "metadata": {},
   "source": [
    "To start out, we need to read in and process a dataset. We'll read in the `german` credit reporting dataset and do some light processing. You can find more information about this dataset [here](https://archive.ics.uci.edu/ml/datasets/statlog+(german+credit+data)). A processed version of this dataset is included in our repository for the purposes of this demo.\n",
    "\n",
    "We convert categorical columns to binary where possible and drop other more complicated categorical columns. In the near future, we will be able to support auditing over these features as well."
   ]
  },
  {
   "cell_type": "code",
   "execution_count": 3,
   "metadata": {},
   "outputs": [],
   "source": [
    "data_dir = \"../data/\"\n",
    "data_name = 'german'\n",
    "data_file = os.path.join(data_dir, '%s_processed.csv' % data_name)\n",
    "## load and process data\n",
    "german_df = pd.read_csv(data_file).reset_index(drop=True)\n",
    "german_df = (german_df\n",
    "             .assign(isMale=lambda df: (df['Gender']=='Male').astype(int))\n",
    "             .drop(['PurposeOfLoan', 'Gender', 'OtherLoansAtStore'], axis=1)\n",
    "            )\n",
    "\n",
    "y = german_df['GoodCustomer']\n",
    "X = german_df.drop('GoodCustomer', axis=1)"
   ]
  },
  {
   "cell_type": "markdown",
   "metadata": {},
   "source": [
    "Now let's set up our training sets."
   ]
  },
  {
   "cell_type": "code",
   "execution_count": 4,
   "metadata": {},
   "outputs": [],
   "source": [
    "action_set = ActionSet(X = X)\n",
    "action_set['Age'].mutable = False\n",
    "action_set['Single'].mutable = False\n",
    "action_set['JobClassIsSkilled'].mutable = False\n",
    "action_set['ForeignWorker'].mutable = False\n",
    "action_set['OwnsHouse'].mutable = False\n",
    "action_set['RentsHouse'].mutable = False\n",
    "action_set['isMale'].mutable = False"
   ]
  },
  {
   "cell_type": "markdown",
   "metadata": {},
   "source": [
    "Ok, great, we've instantialized an `ActionSet` and determined some features that we'd like to call immutable. Let's check what we've got so far:"
   ]
  },
  {
   "cell_type": "code",
   "execution_count": 5,
   "metadata": {},
   "outputs": [
    {
     "data": {
      "text/plain": [
       "+---------------------------------+---------------+---------+------------+----------------+----------------+-----------+-----------+-----------+-------+---------+\n",
       "|                            name | variable type | mutable | actionable | step direction | flip direction | grid size | step type | step size |    lb |      ub |\n",
       "+---------------------------------+---------------+---------+------------+----------------+----------------+-----------+-----------+-----------+-------+---------+\n",
       "|                   ForeignWorker | <class 'int'> |   False |      False |              0 |            nan |         2 |  relative |      0.01 |   0.0 |     1.0 |\n",
       "|                          Single | <class 'int'> |   False |      False |              0 |            nan |         2 |  relative |      0.01 |   0.0 |     1.0 |\n",
       "|                             Age | <class 'int'> |   False |      False |              0 |            nan |        49 |  relative |      0.01 |  20.0 |    68.0 |\n",
       "|                    LoanDuration | <class 'int'> |    True |       True |              0 |            nan |        55 |  relative |      0.01 |   6.0 |    60.0 |\n",
       "|                      LoanAmount | <class 'int'> |    True |       True |              0 |            nan |       101 |  relative |      0.01 | 425.0 | 14181.0 |\n",
       "|       LoanRateAsPercentOfIncome | <class 'int'> |    True |       True |              0 |            nan |         4 |  relative |      0.01 |   1.0 |     4.0 |\n",
       "|              YearsAtCurrentHome | <class 'int'> |    True |       True |              0 |            nan |         4 |  relative |      0.01 |   1.0 |     4.0 |\n",
       "|        NumberOfOtherLoansAtBank | <class 'int'> |    True |       True |              0 |            nan |         3 |  relative |      0.01 |   1.0 |     3.0 |\n",
       "|       NumberOfLiableIndividuals | <class 'int'> |    True |       True |              0 |            nan |         2 |  relative |      0.01 |   1.0 |     2.0 |\n",
       "|                    HasTelephone | <class 'int'> |    True |       True |              0 |            nan |         2 |  relative |      0.01 |   0.0 |     1.0 |\n",
       "|    CheckingAccountBalance_geq_0 | <class 'int'> |    True |       True |              0 |            nan |         2 |  relative |      0.01 |   0.0 |     1.0 |\n",
       "|  CheckingAccountBalance_geq_200 | <class 'int'> |    True |       True |              0 |            nan |         2 |  relative |      0.01 |   0.0 |     1.0 |\n",
       "|   SavingsAccountBalance_geq_100 | <class 'int'> |    True |       True |              0 |            nan |         2 |  relative |      0.01 |   0.0 |     1.0 |\n",
       "|   SavingsAccountBalance_geq_500 | <class 'int'> |    True |       True |              0 |            nan |         2 |  relative |      0.01 |   0.0 |     1.0 |\n",
       "|                  MissedPayments | <class 'int'> |    True |       True |              0 |            nan |         2 |  relative |      0.01 |   0.0 |     1.0 |\n",
       "|                   NoCurrentLoan | <class 'int'> |    True |       True |              0 |            nan |         2 |  relative |      0.01 |   0.0 |     1.0 |\n",
       "| CriticalAccountOrLoansElsewhere | <class 'int'> |    True |       True |              0 |            nan |         2 |  relative |      0.01 |   0.0 |     1.0 |\n",
       "|                OtherLoansAtBank | <class 'int'> |    True |       True |              0 |            nan |         2 |  relative |      0.01 |   0.0 |     1.0 |\n",
       "|                  HasCoapplicant | <class 'int'> |    True |       True |              0 |            nan |         2 |  relative |      0.01 |   0.0 |     1.0 |\n",
       "|                    HasGuarantor | <class 'int'> |    True |       True |              0 |            nan |         2 |  relative |      0.01 |   0.0 |     1.0 |\n",
       "|                       OwnsHouse | <class 'int'> |   False |      False |              0 |            nan |         2 |  relative |      0.01 |   0.0 |     1.0 |\n",
       "|                      RentsHouse | <class 'int'> |   False |      False |              0 |            nan |         2 |  relative |      0.01 |   0.0 |     1.0 |\n",
       "|                      Unemployed | <class 'int'> |    True |       True |              0 |            nan |         2 |  relative |      0.01 |   0.0 |     1.0 |\n",
       "|          YearsAtCurrentJob_lt_1 | <class 'int'> |    True |       True |              0 |            nan |         2 |  relative |      0.01 |   0.0 |     1.0 |\n",
       "|         YearsAtCurrentJob_geq_4 | <class 'int'> |    True |       True |              0 |            nan |         2 |  relative |      0.01 |   0.0 |     1.0 |\n",
       "|               JobClassIsSkilled | <class 'int'> |   False |      False |              0 |            nan |         2 |  relative |      0.01 |   0.0 |     1.0 |\n",
       "|                          isMale | <class 'int'> |   False |      False |              0 |            nan |         2 |  relative |      0.01 |   0.0 |     1.0 |\n",
       "+---------------------------------+---------------+---------+------------+----------------+----------------+-----------+-----------+-----------+-------+---------+"
      ]
     },
     "execution_count": 5,
     "metadata": {},
     "output_type": "execute_result"
    }
   ],
   "source": [
    "action_set"
   ]
  },
  {
   "cell_type": "markdown",
   "metadata": {},
   "source": [
    "There's a lot of stuff baked in here. Let's walk through some of it.\n",
    "\n",
    "* You can see that every feature has a `lb` and an `ub`. These specify the lower and upper bounds for that feature, which we derived by looking at the 100th percentile of each feature.\n",
    "* All the features have defaulted to `step_type=relative` and `step_size=.01`. This means that when we consider potential actions, we take steps of size $1%$ through the feasible space. So, for example, if you observe in the dataset that `LoanAmount` ranges from $\\$100$ to $\\$200$, your actions would be: $\\$100, \\$101, \\$102,...\\$200$. Other `step_types` are: `absolute` and `percentile`. `Absolute` means you can specify a positive real, (any positive real!) and we'll step at that amount. `Percentile` means we'll consider one action to be `step_size` percentile shift.\n",
    "* This leads us naturally into the `action_grid`. This is a grid we set up based on `step_size` and `step_type`. We've already setup grids for these features. These will discretize continuous variables for you. Check out our paper to see how this is optimal and equivalent to treating these features as continuous. Plus, it makes your wait-time a lot slower.\n",
    "\n",
    "See how much time and processing you save just by passing in the dataset? Told you it was worth it."
   ]
  },
  {
   "cell_type": "markdown",
   "metadata": {},
   "source": [
    "But ok, in the real world you might want change. GObama. Let's see how to do that. We'll take `LoanDuration`. These are what some of the attributes look like:"
   ]
  },
  {
   "cell_type": "code",
   "execution_count": 6,
   "metadata": {},
   "outputs": [
    {
     "data": {
      "text/plain": [
       "'LoanDuration': (6.0, 60.0)"
      ]
     },
     "execution_count": 6,
     "metadata": {},
     "output_type": "execute_result"
    }
   ],
   "source": [
    "action_set['LoanDuration']\n",
    "## default str shows (lb, ub)"
   ]
  },
  {
   "cell_type": "code",
   "execution_count": 7,
   "metadata": {},
   "outputs": [
    {
     "data": {
      "text/plain": [
       "0.01"
      ]
     },
     "execution_count": 7,
     "metadata": {},
     "output_type": "execute_result"
    }
   ],
   "source": [
    "action_set['LoanDuration'].step_size"
   ]
  },
  {
   "cell_type": "markdown",
   "metadata": {},
   "source": [
    "To change `step_size`, we can simply set another value. UCI tells us that this is measured in months. Let's say we only want to consider 6-month intervals."
   ]
  },
  {
   "cell_type": "code",
   "execution_count": 8,
   "metadata": {},
   "outputs": [],
   "source": [
    "# action_set['LoanDuration'].step_size = 6"
   ]
  },
  {
   "cell_type": "markdown",
   "metadata": {},
   "source": [
    "Whoops, we got an assertion error. Let's make sure to change the `step_type` first."
   ]
  },
  {
   "cell_type": "code",
   "execution_count": 9,
   "metadata": {},
   "outputs": [],
   "source": [
    "action_set['LoanDuration'].step_type =\"absolute\"\n",
    "action_set['LoanDuration'].step_size = 6"
   ]
  },
  {
   "cell_type": "markdown",
   "metadata": {},
   "source": [
    "Great. Now let's look at the bounds:"
   ]
  },
  {
   "cell_type": "code",
   "execution_count": 10,
   "metadata": {},
   "outputs": [
    {
     "data": {
      "text/plain": [
       "'LoanDuration': (6.0, 60.0)"
      ]
     },
     "execution_count": 10,
     "metadata": {},
     "output_type": "execute_result"
    }
   ],
   "source": [
    "action_set['LoanDuration']"
   ]
  },
  {
   "cell_type": "markdown",
   "metadata": {},
   "source": [
    "To set bounds:"
   ]
  },
  {
   "cell_type": "code",
   "execution_count": 11,
   "metadata": {},
   "outputs": [],
   "source": [
    "action_set['LoanDuration'].bounds = (1, 100)"
   ]
  },
  {
   "cell_type": "code",
   "execution_count": 12,
   "metadata": {},
   "outputs": [
    {
     "data": {
      "text/plain": [
       "'LoanDuration': (1.0, 100.0)"
      ]
     },
     "execution_count": 12,
     "metadata": {},
     "output_type": "execute_result"
    }
   ],
   "source": [
    "action_set['LoanDuration']"
   ]
  },
  {
   "cell_type": "markdown",
   "metadata": {},
   "source": [
    "# Train model"
   ]
  },
  {
   "cell_type": "markdown",
   "metadata": {},
   "source": [
    "Ok great, now let's get into the meat of it. Let's train up a model as see what recourse exists."
   ]
  },
  {
   "cell_type": "code",
   "execution_count": 13,
   "metadata": {},
   "outputs": [
    {
     "name": "stderr",
     "output_type": "stream",
     "text": [
      "/anaconda3/lib/python3.6/site-packages/sklearn/neural_network/_multilayer_perceptron.py:571: ConvergenceWarning: Stochastic Optimizer: Maximum iterations (200) reached and the optimization hasn't converged yet.\n",
      "  % self.max_iter, ConvergenceWarning)\n"
     ]
    },
    {
     "data": {
      "text/plain": [
       "MLPClassifier(activation='relu', alpha=0.0001, batch_size='auto', beta_1=0.9,\n",
       "              beta_2=0.999, early_stopping=False, epsilon=1e-08,\n",
       "              hidden_layer_sizes=(10, 10, 10, 10), learning_rate='constant',\n",
       "              learning_rate_init=0.001, max_fun=15000, max_iter=200,\n",
       "              momentum=0.9, n_iter_no_change=10, nesterovs_momentum=True,\n",
       "              power_t=0.5, random_state=None, shuffle=True, solver='adam',\n",
       "              tol=0.0001, validation_fraction=0.1, verbose=False,\n",
       "              warm_start=False)"
      ]
     },
     "execution_count": 13,
     "metadata": {},
     "output_type": "execute_result"
    }
   ],
   "source": [
    "from sklearn.neural_network import MLPClassifier\n",
    "\n",
    "nn = MLPClassifier(hidden_layer_sizes=(10, 10, 10, 10))\n",
    "nn.fit(X, y) \n",
    "\n",
    " "
   ]
  },
  {
   "cell_type": "code",
   "execution_count": 14,
   "metadata": {},
   "outputs": [],
   "source": [
    "## grid search\n",
    "clf = LogisticRegression(max_iter=1000, solver='lbfgs')\n",
    "grid = GridSearchCV(\n",
    "  clf, param_grid={'C': np.logspace(-4, 3)},\n",
    "  cv=10,\n",
    "  scoring='roc_auc',\n",
    "  return_train_score=True\n",
    ")\n",
    "grid.fit(X, y)\n",
    "clf = grid.best_estimator_"
   ]
  },
  {
   "cell_type": "code",
   "execution_count": 15,
   "metadata": {},
   "outputs": [],
   "source": [
    "coefficients = clf.coef_[0]\n",
    "intercept = clf.intercept_[0]"
   ]
  },
  {
   "cell_type": "markdown",
   "metadata": {},
   "source": [
    "Ok cool, now that we have our model, we can do some exciting stuff. First things first, we need to align our `ActionSet`. What this means is that our `ActionSet` didn't know yet which directions were the _right_ directions to step in. The coefficients will tell it that."
   ]
  },
  {
   "cell_type": "code",
   "execution_count": 16,
   "metadata": {},
   "outputs": [],
   "source": [
    "action_set.align(coefficients=coefficients)"
   ]
  },
  {
   "cell_type": "markdown",
   "metadata": {},
   "source": [
    "Hold on, let's do a quick check. Sometimes, coefficients can be misleading for a host of reasons:\n",
    "* A confounder can switch the direction.\n",
    "* A collinear feature could negative or also flip the direction."
   ]
  },
  {
   "cell_type": "code",
   "execution_count": 17,
   "metadata": {},
   "outputs": [
    {
     "data": {
      "text/html": [
       "<div>\n",
       "<style scoped>\n",
       "    .dataframe tbody tr th:only-of-type {\n",
       "        vertical-align: middle;\n",
       "    }\n",
       "\n",
       "    .dataframe tbody tr th {\n",
       "        vertical-align: top;\n",
       "    }\n",
       "\n",
       "    .dataframe thead th {\n",
       "        text-align: right;\n",
       "    }\n",
       "</style>\n",
       "<table border=\"1\" class=\"dataframe\">\n",
       "  <thead>\n",
       "    <tr style=\"text-align: right;\">\n",
       "      <th></th>\n",
       "      <th>Coefficients</th>\n",
       "    </tr>\n",
       "  </thead>\n",
       "  <tbody>\n",
       "    <tr>\n",
       "      <th>ForeignWorker</th>\n",
       "      <td>0.236718</td>\n",
       "    </tr>\n",
       "    <tr>\n",
       "      <th>Single</th>\n",
       "      <td>0.189415</td>\n",
       "    </tr>\n",
       "    <tr>\n",
       "      <th>Age</th>\n",
       "      <td>0.016919</td>\n",
       "    </tr>\n",
       "    <tr>\n",
       "      <th>LoanDuration</th>\n",
       "      <td>-0.024855</td>\n",
       "    </tr>\n",
       "    <tr>\n",
       "      <th>LoanAmount</th>\n",
       "      <td>-0.000071</td>\n",
       "    </tr>\n",
       "    <tr>\n",
       "      <th>LoanRateAsPercentOfIncome</th>\n",
       "      <td>-0.219886</td>\n",
       "    </tr>\n",
       "    <tr>\n",
       "      <th>YearsAtCurrentHome</th>\n",
       "      <td>0.055598</td>\n",
       "    </tr>\n",
       "    <tr>\n",
       "      <th>NumberOfOtherLoansAtBank</th>\n",
       "      <td>-0.107838</td>\n",
       "    </tr>\n",
       "    <tr>\n",
       "      <th>NumberOfLiableIndividuals</th>\n",
       "      <td>0.020561</td>\n",
       "    </tr>\n",
       "    <tr>\n",
       "      <th>HasTelephone</th>\n",
       "      <td>0.316835</td>\n",
       "    </tr>\n",
       "    <tr>\n",
       "      <th>CheckingAccountBalance_geq_0</th>\n",
       "      <td>-0.264473</td>\n",
       "    </tr>\n",
       "    <tr>\n",
       "      <th>CheckingAccountBalance_geq_200</th>\n",
       "      <td>0.185391</td>\n",
       "    </tr>\n",
       "    <tr>\n",
       "      <th>SavingsAccountBalance_geq_100</th>\n",
       "      <td>0.341771</td>\n",
       "    </tr>\n",
       "    <tr>\n",
       "      <th>SavingsAccountBalance_geq_500</th>\n",
       "      <td>0.399608</td>\n",
       "    </tr>\n",
       "    <tr>\n",
       "      <th>MissedPayments</th>\n",
       "      <td>0.178215</td>\n",
       "    </tr>\n",
       "    <tr>\n",
       "      <th>NoCurrentLoan</th>\n",
       "      <td>-0.439579</td>\n",
       "    </tr>\n",
       "    <tr>\n",
       "      <th>CriticalAccountOrLoansElsewhere</th>\n",
       "      <td>0.650446</td>\n",
       "    </tr>\n",
       "    <tr>\n",
       "      <th>OtherLoansAtBank</th>\n",
       "      <td>-0.471777</td>\n",
       "    </tr>\n",
       "    <tr>\n",
       "      <th>HasCoapplicant</th>\n",
       "      <td>-0.180015</td>\n",
       "    </tr>\n",
       "    <tr>\n",
       "      <th>HasGuarantor</th>\n",
       "      <td>0.269616</td>\n",
       "    </tr>\n",
       "    <tr>\n",
       "      <th>OwnsHouse</th>\n",
       "      <td>0.574869</td>\n",
       "    </tr>\n",
       "    <tr>\n",
       "      <th>RentsHouse</th>\n",
       "      <td>0.064597</td>\n",
       "    </tr>\n",
       "    <tr>\n",
       "      <th>Unemployed</th>\n",
       "      <td>-0.129616</td>\n",
       "    </tr>\n",
       "    <tr>\n",
       "      <th>YearsAtCurrentJob_lt_1</th>\n",
       "      <td>-0.162587</td>\n",
       "    </tr>\n",
       "    <tr>\n",
       "      <th>YearsAtCurrentJob_geq_4</th>\n",
       "      <td>0.346827</td>\n",
       "    </tr>\n",
       "    <tr>\n",
       "      <th>JobClassIsSkilled</th>\n",
       "      <td>0.195710</td>\n",
       "    </tr>\n",
       "    <tr>\n",
       "      <th>isMale</th>\n",
       "      <td>0.131230</td>\n",
       "    </tr>\n",
       "  </tbody>\n",
       "</table>\n",
       "</div>"
      ],
      "text/plain": [
       "                                 Coefficients\n",
       "ForeignWorker                        0.236718\n",
       "Single                               0.189415\n",
       "Age                                  0.016919\n",
       "LoanDuration                        -0.024855\n",
       "LoanAmount                          -0.000071\n",
       "LoanRateAsPercentOfIncome           -0.219886\n",
       "YearsAtCurrentHome                   0.055598\n",
       "NumberOfOtherLoansAtBank            -0.107838\n",
       "NumberOfLiableIndividuals            0.020561\n",
       "HasTelephone                         0.316835\n",
       "CheckingAccountBalance_geq_0        -0.264473\n",
       "CheckingAccountBalance_geq_200       0.185391\n",
       "SavingsAccountBalance_geq_100        0.341771\n",
       "SavingsAccountBalance_geq_500        0.399608\n",
       "MissedPayments                       0.178215\n",
       "NoCurrentLoan                       -0.439579\n",
       "CriticalAccountOrLoansElsewhere      0.650446\n",
       "OtherLoansAtBank                    -0.471777\n",
       "HasCoapplicant                      -0.180015\n",
       "HasGuarantor                         0.269616\n",
       "OwnsHouse                            0.574869\n",
       "RentsHouse                           0.064597\n",
       "Unemployed                          -0.129616\n",
       "YearsAtCurrentJob_lt_1              -0.162587\n",
       "YearsAtCurrentJob_geq_4              0.346827\n",
       "JobClassIsSkilled                    0.195710\n",
       "isMale                               0.131230"
      ]
     },
     "execution_count": 17,
     "metadata": {},
     "output_type": "execute_result"
    }
   ],
   "source": [
    "pd.Series(coefficients, index=X.columns).to_frame('Coefficients')"
   ]
  },
  {
   "cell_type": "markdown",
   "metadata": {},
   "source": [
    "Hmmm that's odd. `CriticalAccountOrLoansElsewhere` is a positive coefficient, meaning that opening more accounts elsewhere will _help_ someone flip their prediction. It very well might be predictive within the confines of this model, but we're looking for more than predictive power, here. We're not quite looking for causality, but still, we certainly don't want to actively encourage someone to do something that we know a-priori will be bad for them.\n",
    "\n",
    "When we notice weird stuff like that, we can easily hop into the interfact and change it."
   ]
  },
  {
   "cell_type": "code",
   "execution_count": 18,
   "metadata": {},
   "outputs": [],
   "source": [
    "action_set['CriticalAccountOrLoansElsewhere'].step_direction = -1\n",
    "action_set['CheckingAccountBalance_geq_0'].step_direction = 1"
   ]
  },
  {
   "cell_type": "markdown",
   "metadata": {},
   "source": [
    "# Generate Recourse"
   ]
  },
  {
   "cell_type": "markdown",
   "metadata": {},
   "source": [
    "First, let's score everyone using our model. Now, let's say that we will give loans to anyone with a greater than a $80\\%$ chance of paying it back"
   ]
  },
  {
   "cell_type": "code",
   "execution_count": 19,
   "metadata": {},
   "outputs": [],
   "source": [
    "scores = pd.Series(clf.predict_proba(X)[:, 1])"
   ]
  },
  {
   "cell_type": "code",
   "execution_count": 20,
   "metadata": {},
   "outputs": [
    {
     "data": {
      "text/plain": [
       "1    0.360888\n",
       "3    0.642839\n",
       "4    0.565258\n",
       "5    0.497203\n",
       "7    0.500728\n",
       "dtype: float64"
      ]
     },
     "execution_count": 20,
     "metadata": {},
     "output_type": "execute_result"
    }
   ],
   "source": [
    "scores.loc[lambda s: s<.8].head()"
   ]
  },
  {
   "cell_type": "code",
   "execution_count": 21,
   "metadata": {},
   "outputs": [
    {
     "data": {
      "text/plain": [
       "(691,)"
      ]
     },
     "execution_count": 21,
     "metadata": {},
     "output_type": "execute_result"
    }
   ],
   "source": [
    "scores.loc[lambda s: s<.8].shape"
   ]
  },
  {
   "cell_type": "markdown",
   "metadata": {},
   "source": [
    "That's quite a few people in our dataset that won't be able to qualify for a loan. Let's see what one of them can do."
   ]
  },
  {
   "cell_type": "code",
   "execution_count": 22,
   "metadata": {},
   "outputs": [],
   "source": [
    "denied_individuals = scores.loc[lambda s: s < .8].index"
   ]
  },
  {
   "cell_type": "code",
   "execution_count": 53,
   "metadata": {},
   "outputs": [],
   "source": [
    "x = X.values[denied_individuals[9]]\n",
    "\n",
    "p = .8\n",
    "rb = RecourseBuilder(\n",
    "      optimizer=\"cbc\",\n",
    "      coefficients=coefficients,\n",
    "      intercept=intercept- (np.log(p / (1. - p))),\n",
    "      action_set=action_set,\n",
    "      x=x\n",
    ")"
   ]
  },
  {
   "cell_type": "markdown",
   "metadata": {},
   "source": [
    "You can switch optimizers if you don't have CPLEX by setting `optimizer=\"cbc\"`. \n",
    "\n",
    "A quick note: Our decision boundary is by default 0. We shift this by tweaking the intercept. Since we used Logistic Regression, we use the trick above to do that. In future iterations, we will provide a more elegant way of doing this."
   ]
  },
  {
   "cell_type": "code",
   "execution_count": 54,
   "metadata": {},
   "outputs": [
    {
     "name": "stdout",
     "output_type": "stream",
     "text": [
      "obtained 10 items in 0.5 seconds\n",
      "[{'cost': 0.11099996, 'feasible': True, 'status': 'optimal', 'costs': array([0.        , 0.        , 0.        , 0.        , 0.        ,\n",
      "       0.        , 0.        , 0.        , 0.        , 0.        ,\n",
      "       0.        , 0.06299998, 0.        , 0.11099996, 0.        ,\n",
      "       0.        , 0.        , 0.        , 0.        , 0.05199999,\n",
      "       0.        , 0.        , 0.        , 0.        , 0.        ,\n",
      "       0.        , 0.        ]), 'actions': array([0., 0., 0., 0., 0., 0., 0., 0., 0., 0., 0., 1., 0., 1., 0., 0., 0.,\n",
      "       0., 0., 1., 0., 0., 0., 0., 0., 0., 0.]), 'upperbound': inf, 'lowerbound': inf, 'gap': inf, 'iterations': 0, 'nodes_processed': 0, 'nodes_remaining': 0, 'runtime': 0.0}, {'cost': 0.11099996, 'feasible': True, 'status': 'optimal', 'costs': array([0.        , 0.        , 0.        , 0.        , 0.00320968,\n",
      "       0.        , 0.        , 0.        , 0.        , 0.        ,\n",
      "       0.        , 0.06299998, 0.        , 0.11099996, 0.        ,\n",
      "       0.        , 0.        , 0.        , 0.        , 0.05199999,\n",
      "       0.        , 0.        , 0.        , 0.        , 0.        ,\n",
      "       0.        , 0.        ]), 'actions': array([  0.,   0.,   0.,   0., -12.,   0.,   0.,   0.,   0.,   0.,   0.,\n",
      "         1.,   0.,   1.,   0.,   0.,   0.,   0.,   0.,   1.,   0.,   0.,\n",
      "         0.,   0.,   0.,   0.,   0.]), 'upperbound': inf, 'lowerbound': inf, 'gap': inf, 'iterations': 0, 'nodes_processed': 0, 'nodes_remaining': 0, 'runtime': 0.0}, {'cost': 0.11099996, 'feasible': True, 'status': 'optimal', 'costs': array([0.        , 0.        , 0.        , 0.03911004, 0.        ,\n",
      "       0.        , 0.        , 0.        , 0.        , 0.        ,\n",
      "       0.        , 0.06299998, 0.        , 0.11099996, 0.        ,\n",
      "       0.        , 0.        , 0.        , 0.        , 0.05199999,\n",
      "       0.        , 0.        , 0.        , 0.        , 0.        ,\n",
      "       0.        , 0.        ]), 'actions': array([ 0.,  0.,  0., -1.,  0.,  0.,  0.,  0.,  0.,  0.,  0.,  1.,  0.,\n",
      "        1.,  0.,  0.,  0.,  0.,  0.,  1.,  0.,  0.,  0.,  0.,  0.,  0.,\n",
      "        0.]), 'upperbound': inf, 'lowerbound': inf, 'gap': inf, 'iterations': 0, 'nodes_processed': 0, 'nodes_remaining': 0, 'runtime': 0.0}, {'cost': 0.11099996, 'feasible': True, 'status': 'optimal', 'costs': array([0.        , 0.        , 0.        , 0.03911004, 0.00320968,\n",
      "       0.        , 0.        , 0.        , 0.        , 0.        ,\n",
      "       0.        , 0.06299998, 0.        , 0.11099996, 0.        ,\n",
      "       0.        , 0.        , 0.        , 0.        , 0.05199999,\n",
      "       0.        , 0.        , 0.        , 0.        , 0.        ,\n",
      "       0.        , 0.        ]), 'actions': array([  0.,   0.,   0.,  -1., -12.,   0.,   0.,   0.,   0.,   0.,   0.,\n",
      "         1.,   0.,   1.,   0.,   0.,   0.,   0.,   0.,   1.,   0.,   0.,\n",
      "         0.,   0.,   0.,   0.,   0.]), 'upperbound': inf, 'lowerbound': inf, 'gap': inf, 'iterations': 0, 'nodes_processed': 0, 'nodes_remaining': 0, 'runtime': 0.0}, {'cost': 0.15499993, 'feasible': True, 'status': 'optimal', 'costs': array([0.        , 0.        , 0.        , 0.        , 0.        ,\n",
      "       0.        , 0.        , 0.        , 0.15499993, 0.        ,\n",
      "       0.        , 0.06299998, 0.        , 0.11099996, 0.        ,\n",
      "       0.        , 0.        , 0.        , 0.        , 0.05199999,\n",
      "       0.        , 0.        , 0.        , 0.        , 0.        ,\n",
      "       0.        , 0.        ]), 'actions': array([0., 0., 0., 0., 0., 0., 0., 0., 1., 0., 0., 1., 0., 1., 0., 0., 0.,\n",
      "       0., 0., 1., 0., 0., 0., 0., 0., 0., 0.]), 'upperbound': inf, 'lowerbound': inf, 'gap': inf, 'iterations': 0, 'nodes_processed': 0, 'nodes_remaining': 0, 'runtime': 0.0}, {'cost': 0.15499993, 'feasible': True, 'status': 'optimal', 'costs': array([0.        , 0.        , 0.        , 0.        , 0.00320968,\n",
      "       0.        , 0.        , 0.        , 0.15499993, 0.        ,\n",
      "       0.        , 0.06299998, 0.        , 0.11099996, 0.        ,\n",
      "       0.        , 0.        , 0.        , 0.        , 0.05199999,\n",
      "       0.        , 0.        , 0.        , 0.        , 0.        ,\n",
      "       0.        , 0.        ]), 'actions': array([  0.,   0.,   0.,   0., -12.,   0.,   0.,   0.,   1.,   0.,   0.,\n",
      "         1.,   0.,   1.,   0.,   0.,   0.,   0.,   0.,   1.,   0.,   0.,\n",
      "         0.,   0.,   0.,   0.,   0.]), 'upperbound': inf, 'lowerbound': inf, 'gap': inf, 'iterations': 0, 'nodes_processed': 0, 'nodes_remaining': 0, 'runtime': 0.0}, {'cost': 0.15499993, 'feasible': True, 'status': 'optimal', 'costs': array([0.        , 0.        , 0.        , 0.03911004, 0.        ,\n",
      "       0.        , 0.        , 0.        , 0.15499993, 0.        ,\n",
      "       0.        , 0.06299998, 0.        , 0.11099996, 0.        ,\n",
      "       0.        , 0.        , 0.        , 0.        , 0.05199999,\n",
      "       0.        , 0.        , 0.        , 0.        , 0.        ,\n",
      "       0.        , 0.        ]), 'actions': array([ 0.,  0.,  0., -1.,  0.,  0.,  0.,  0.,  1.,  0.,  0.,  1.,  0.,\n",
      "        1.,  0.,  0.,  0.,  0.,  0.,  1.,  0.,  0.,  0.,  0.,  0.,  0.,\n",
      "        0.]), 'upperbound': inf, 'lowerbound': inf, 'gap': inf, 'iterations': 0, 'nodes_processed': 0, 'nodes_remaining': 0, 'runtime': 0.0}, {'cost': 0.15499993, 'feasible': True, 'status': 'optimal', 'costs': array([0.        , 0.        , 0.        , 0.03911004, 0.00320968,\n",
      "       0.        , 0.        , 0.        , 0.15499993, 0.        ,\n",
      "       0.        , 0.06299998, 0.        , 0.11099996, 0.        ,\n",
      "       0.        , 0.        , 0.        , 0.        , 0.05199999,\n",
      "       0.        , 0.        , 0.        , 0.        , 0.        ,\n",
      "       0.        , 0.        ]), 'actions': array([  0.,   0.,   0.,  -1., -12.,   0.,   0.,   0.,   1.,   0.,   0.,\n",
      "         1.,   0.,   1.,   0.,   0.,   0.,   0.,   0.,   1.,   0.,   0.,\n",
      "         0.,   0.,   0.,   0.,   0.]), 'upperbound': inf, 'lowerbound': inf, 'gap': inf, 'iterations': 0, 'nodes_processed': 0, 'nodes_remaining': 0, 'runtime': 0.0}, {'cost': 0.19308152, 'feasible': True, 'status': 'optimal', 'costs': array([0.        , 0.        , 0.        , 0.16923237, 0.19308152,\n",
      "       0.        , 0.        , 0.        , 0.15499993, 0.        ,\n",
      "       0.        , 0.        , 0.        , 0.11099996, 0.        ,\n",
      "       0.        , 0.        , 0.        , 0.        , 0.05199999,\n",
      "       0.        , 0.        , 0.        , 0.        , 0.        ,\n",
      "       0.        , 0.        ]), 'actions': array([   0.,    0.,    0.,   -4., -840.,    0.,    0.,    0.,    1.,\n",
      "          0.,    0.,    0.,    0.,    1.,    0.,    0.,    0.,    0.,\n",
      "          0.,    1.,    0.,    0.,    0.,    0.,    0.,    0.,    0.]), 'upperbound': inf, 'lowerbound': inf, 'gap': inf, 'iterations': 0, 'nodes_processed': 0, 'nodes_remaining': 0, 'runtime': 0.0}, {'cost': 0.21279538, 'feasible': True, 'status': 'optimal', 'costs': array([0.        , 0.        , 0.        , 0.21279538, 0.19308152,\n",
      "       0.        , 0.        , 0.        , 0.        , 0.        ,\n",
      "       0.        , 0.        , 0.        , 0.11099996, 0.        ,\n",
      "       0.        , 0.        , 0.        , 0.        , 0.05199999,\n",
      "       0.        , 0.        , 0.        , 0.        , 0.        ,\n",
      "       0.        , 0.        ]), 'actions': array([   0.,    0.,    0.,   -5., -840.,    0.,    0.,    0.,    0.,\n",
      "          0.,    0.,    0.,    0.,    1.,    0.,    0.,    0.,    0.,\n",
      "          0.,    1.,    0.,    0.,    0.,    0.,    0.,    0.,    0.]), 'upperbound': inf, 'lowerbound': inf, 'gap': inf, 'iterations': 0, 'nodes_processed': 0, 'nodes_remaining': 0, 'runtime': 0.0}]\n"
     ]
    }
   ],
   "source": [
    "output_1 = rb.fit()\n",
    "output_1\n",
    "\n",
    "all_info = rb.populate()\n",
    "print(all_info)"
   ]
  },
  {
   "cell_type": "markdown",
   "metadata": {},
   "source": [
    "Ok, great, we have a solution! This individual has recourse. The total cost of all the actions needed to flip their prediction is the first thing of interest to us. It costs this person $.21$, meaning that the sum of percentile shifts across this person's features is $.21$. That's quite a lot. Imagine having to shift that much relative to a population? Let's check out what this means in terms of actions:"
   ]
  },
  {
   "cell_type": "code",
   "execution_count": 55,
   "metadata": {},
   "outputs": [
    {
     "name": "stdout",
     "output_type": "stream",
     "text": [
      "ForeignWorker                         0\n",
      "Single                                0\n",
      "Age                                  28\n",
      "LoanDuration                         15\n",
      "LoanAmount                         1403\n",
      "LoanRateAsPercentOfIncome             2\n",
      "YearsAtCurrentHome                    4\n",
      "NumberOfOtherLoansAtBank              1\n",
      "NumberOfLiableIndividuals             1\n",
      "HasTelephone                          0\n",
      "CheckingAccountBalance_geq_0          0\n",
      "CheckingAccountBalance_geq_200        0\n",
      "SavingsAccountBalance_geq_100         0\n",
      "SavingsAccountBalance_geq_500         0\n",
      "MissedPayments                        1\n",
      "NoCurrentLoan                         0\n",
      "CriticalAccountOrLoansElsewhere       0\n",
      "OtherLoansAtBank                      0\n",
      "HasCoapplicant                        0\n",
      "HasGuarantor                          0\n",
      "OwnsHouse                             0\n",
      "RentsHouse                            1\n",
      "Unemployed                            0\n",
      "YearsAtCurrentJob_lt_1                0\n",
      "YearsAtCurrentJob_geq_4               0\n",
      "JobClassIsSkilled                     1\n",
      "isMale                                0\n",
      "dtype: int64\n"
     ]
    },
    {
     "data": {
      "text/html": [
       "<div>\n",
       "<style scoped>\n",
       "    .dataframe tbody tr th:only-of-type {\n",
       "        vertical-align: middle;\n",
       "    }\n",
       "\n",
       "    .dataframe tbody tr th {\n",
       "        vertical-align: top;\n",
       "    }\n",
       "\n",
       "    .dataframe thead th {\n",
       "        text-align: right;\n",
       "    }\n",
       "</style>\n",
       "<table border=\"1\" class=\"dataframe\">\n",
       "  <thead>\n",
       "    <tr style=\"text-align: right;\">\n",
       "      <th></th>\n",
       "      <th>0</th>\n",
       "      <th>1</th>\n",
       "      <th>2</th>\n",
       "      <th>3</th>\n",
       "      <th>4</th>\n",
       "      <th>5</th>\n",
       "      <th>6</th>\n",
       "      <th>7</th>\n",
       "      <th>8</th>\n",
       "      <th>9</th>\n",
       "    </tr>\n",
       "  </thead>\n",
       "  <tbody>\n",
       "    <tr>\n",
       "      <th>ForeignWorker</th>\n",
       "      <td>0.0</td>\n",
       "      <td>0.0</td>\n",
       "      <td>0.0</td>\n",
       "      <td>0.0</td>\n",
       "      <td>0.0</td>\n",
       "      <td>0.0</td>\n",
       "      <td>0.0</td>\n",
       "      <td>0.0</td>\n",
       "      <td>0.0</td>\n",
       "      <td>0.0</td>\n",
       "    </tr>\n",
       "    <tr>\n",
       "      <th>Single</th>\n",
       "      <td>0.0</td>\n",
       "      <td>0.0</td>\n",
       "      <td>0.0</td>\n",
       "      <td>0.0</td>\n",
       "      <td>0.0</td>\n",
       "      <td>0.0</td>\n",
       "      <td>0.0</td>\n",
       "      <td>0.0</td>\n",
       "      <td>0.0</td>\n",
       "      <td>0.0</td>\n",
       "    </tr>\n",
       "    <tr>\n",
       "      <th>Age</th>\n",
       "      <td>0.0</td>\n",
       "      <td>0.0</td>\n",
       "      <td>0.0</td>\n",
       "      <td>0.0</td>\n",
       "      <td>0.0</td>\n",
       "      <td>0.0</td>\n",
       "      <td>0.0</td>\n",
       "      <td>0.0</td>\n",
       "      <td>0.0</td>\n",
       "      <td>0.0</td>\n",
       "    </tr>\n",
       "    <tr>\n",
       "      <th>LoanDuration</th>\n",
       "      <td>0.0</td>\n",
       "      <td>0.0</td>\n",
       "      <td>-1.0</td>\n",
       "      <td>-1.0</td>\n",
       "      <td>0.0</td>\n",
       "      <td>0.0</td>\n",
       "      <td>-1.0</td>\n",
       "      <td>-1.0</td>\n",
       "      <td>-4.0</td>\n",
       "      <td>-5.0</td>\n",
       "    </tr>\n",
       "    <tr>\n",
       "      <th>LoanAmount</th>\n",
       "      <td>0.0</td>\n",
       "      <td>-12.0</td>\n",
       "      <td>0.0</td>\n",
       "      <td>-12.0</td>\n",
       "      <td>0.0</td>\n",
       "      <td>-12.0</td>\n",
       "      <td>0.0</td>\n",
       "      <td>-12.0</td>\n",
       "      <td>-840.0</td>\n",
       "      <td>-840.0</td>\n",
       "    </tr>\n",
       "    <tr>\n",
       "      <th>LoanRateAsPercentOfIncome</th>\n",
       "      <td>0.0</td>\n",
       "      <td>0.0</td>\n",
       "      <td>0.0</td>\n",
       "      <td>0.0</td>\n",
       "      <td>0.0</td>\n",
       "      <td>0.0</td>\n",
       "      <td>0.0</td>\n",
       "      <td>0.0</td>\n",
       "      <td>0.0</td>\n",
       "      <td>0.0</td>\n",
       "    </tr>\n",
       "    <tr>\n",
       "      <th>YearsAtCurrentHome</th>\n",
       "      <td>0.0</td>\n",
       "      <td>0.0</td>\n",
       "      <td>0.0</td>\n",
       "      <td>0.0</td>\n",
       "      <td>0.0</td>\n",
       "      <td>0.0</td>\n",
       "      <td>0.0</td>\n",
       "      <td>0.0</td>\n",
       "      <td>0.0</td>\n",
       "      <td>0.0</td>\n",
       "    </tr>\n",
       "    <tr>\n",
       "      <th>NumberOfOtherLoansAtBank</th>\n",
       "      <td>0.0</td>\n",
       "      <td>0.0</td>\n",
       "      <td>0.0</td>\n",
       "      <td>0.0</td>\n",
       "      <td>0.0</td>\n",
       "      <td>0.0</td>\n",
       "      <td>0.0</td>\n",
       "      <td>0.0</td>\n",
       "      <td>0.0</td>\n",
       "      <td>0.0</td>\n",
       "    </tr>\n",
       "    <tr>\n",
       "      <th>NumberOfLiableIndividuals</th>\n",
       "      <td>0.0</td>\n",
       "      <td>0.0</td>\n",
       "      <td>0.0</td>\n",
       "      <td>0.0</td>\n",
       "      <td>1.0</td>\n",
       "      <td>1.0</td>\n",
       "      <td>1.0</td>\n",
       "      <td>1.0</td>\n",
       "      <td>1.0</td>\n",
       "      <td>0.0</td>\n",
       "    </tr>\n",
       "    <tr>\n",
       "      <th>HasTelephone</th>\n",
       "      <td>0.0</td>\n",
       "      <td>0.0</td>\n",
       "      <td>0.0</td>\n",
       "      <td>0.0</td>\n",
       "      <td>0.0</td>\n",
       "      <td>0.0</td>\n",
       "      <td>0.0</td>\n",
       "      <td>0.0</td>\n",
       "      <td>0.0</td>\n",
       "      <td>0.0</td>\n",
       "    </tr>\n",
       "    <tr>\n",
       "      <th>CheckingAccountBalance_geq_0</th>\n",
       "      <td>0.0</td>\n",
       "      <td>0.0</td>\n",
       "      <td>0.0</td>\n",
       "      <td>0.0</td>\n",
       "      <td>0.0</td>\n",
       "      <td>0.0</td>\n",
       "      <td>0.0</td>\n",
       "      <td>0.0</td>\n",
       "      <td>0.0</td>\n",
       "      <td>0.0</td>\n",
       "    </tr>\n",
       "    <tr>\n",
       "      <th>CheckingAccountBalance_geq_200</th>\n",
       "      <td>1.0</td>\n",
       "      <td>1.0</td>\n",
       "      <td>1.0</td>\n",
       "      <td>1.0</td>\n",
       "      <td>1.0</td>\n",
       "      <td>1.0</td>\n",
       "      <td>1.0</td>\n",
       "      <td>1.0</td>\n",
       "      <td>0.0</td>\n",
       "      <td>0.0</td>\n",
       "    </tr>\n",
       "    <tr>\n",
       "      <th>SavingsAccountBalance_geq_100</th>\n",
       "      <td>0.0</td>\n",
       "      <td>0.0</td>\n",
       "      <td>0.0</td>\n",
       "      <td>0.0</td>\n",
       "      <td>0.0</td>\n",
       "      <td>0.0</td>\n",
       "      <td>0.0</td>\n",
       "      <td>0.0</td>\n",
       "      <td>0.0</td>\n",
       "      <td>0.0</td>\n",
       "    </tr>\n",
       "    <tr>\n",
       "      <th>SavingsAccountBalance_geq_500</th>\n",
       "      <td>1.0</td>\n",
       "      <td>1.0</td>\n",
       "      <td>1.0</td>\n",
       "      <td>1.0</td>\n",
       "      <td>1.0</td>\n",
       "      <td>1.0</td>\n",
       "      <td>1.0</td>\n",
       "      <td>1.0</td>\n",
       "      <td>1.0</td>\n",
       "      <td>1.0</td>\n",
       "    </tr>\n",
       "    <tr>\n",
       "      <th>MissedPayments</th>\n",
       "      <td>0.0</td>\n",
       "      <td>0.0</td>\n",
       "      <td>0.0</td>\n",
       "      <td>0.0</td>\n",
       "      <td>0.0</td>\n",
       "      <td>0.0</td>\n",
       "      <td>0.0</td>\n",
       "      <td>0.0</td>\n",
       "      <td>0.0</td>\n",
       "      <td>0.0</td>\n",
       "    </tr>\n",
       "    <tr>\n",
       "      <th>NoCurrentLoan</th>\n",
       "      <td>0.0</td>\n",
       "      <td>0.0</td>\n",
       "      <td>0.0</td>\n",
       "      <td>0.0</td>\n",
       "      <td>0.0</td>\n",
       "      <td>0.0</td>\n",
       "      <td>0.0</td>\n",
       "      <td>0.0</td>\n",
       "      <td>0.0</td>\n",
       "      <td>0.0</td>\n",
       "    </tr>\n",
       "    <tr>\n",
       "      <th>CriticalAccountOrLoansElsewhere</th>\n",
       "      <td>0.0</td>\n",
       "      <td>0.0</td>\n",
       "      <td>0.0</td>\n",
       "      <td>0.0</td>\n",
       "      <td>0.0</td>\n",
       "      <td>0.0</td>\n",
       "      <td>0.0</td>\n",
       "      <td>0.0</td>\n",
       "      <td>0.0</td>\n",
       "      <td>0.0</td>\n",
       "    </tr>\n",
       "    <tr>\n",
       "      <th>OtherLoansAtBank</th>\n",
       "      <td>0.0</td>\n",
       "      <td>0.0</td>\n",
       "      <td>0.0</td>\n",
       "      <td>0.0</td>\n",
       "      <td>0.0</td>\n",
       "      <td>0.0</td>\n",
       "      <td>0.0</td>\n",
       "      <td>0.0</td>\n",
       "      <td>0.0</td>\n",
       "      <td>0.0</td>\n",
       "    </tr>\n",
       "    <tr>\n",
       "      <th>HasCoapplicant</th>\n",
       "      <td>0.0</td>\n",
       "      <td>0.0</td>\n",
       "      <td>0.0</td>\n",
       "      <td>0.0</td>\n",
       "      <td>0.0</td>\n",
       "      <td>0.0</td>\n",
       "      <td>0.0</td>\n",
       "      <td>0.0</td>\n",
       "      <td>0.0</td>\n",
       "      <td>0.0</td>\n",
       "    </tr>\n",
       "    <tr>\n",
       "      <th>HasGuarantor</th>\n",
       "      <td>1.0</td>\n",
       "      <td>1.0</td>\n",
       "      <td>1.0</td>\n",
       "      <td>1.0</td>\n",
       "      <td>1.0</td>\n",
       "      <td>1.0</td>\n",
       "      <td>1.0</td>\n",
       "      <td>1.0</td>\n",
       "      <td>1.0</td>\n",
       "      <td>1.0</td>\n",
       "    </tr>\n",
       "    <tr>\n",
       "      <th>OwnsHouse</th>\n",
       "      <td>0.0</td>\n",
       "      <td>0.0</td>\n",
       "      <td>0.0</td>\n",
       "      <td>0.0</td>\n",
       "      <td>0.0</td>\n",
       "      <td>0.0</td>\n",
       "      <td>0.0</td>\n",
       "      <td>0.0</td>\n",
       "      <td>0.0</td>\n",
       "      <td>0.0</td>\n",
       "    </tr>\n",
       "    <tr>\n",
       "      <th>RentsHouse</th>\n",
       "      <td>0.0</td>\n",
       "      <td>0.0</td>\n",
       "      <td>0.0</td>\n",
       "      <td>0.0</td>\n",
       "      <td>0.0</td>\n",
       "      <td>0.0</td>\n",
       "      <td>0.0</td>\n",
       "      <td>0.0</td>\n",
       "      <td>0.0</td>\n",
       "      <td>0.0</td>\n",
       "    </tr>\n",
       "    <tr>\n",
       "      <th>Unemployed</th>\n",
       "      <td>0.0</td>\n",
       "      <td>0.0</td>\n",
       "      <td>0.0</td>\n",
       "      <td>0.0</td>\n",
       "      <td>0.0</td>\n",
       "      <td>0.0</td>\n",
       "      <td>0.0</td>\n",
       "      <td>0.0</td>\n",
       "      <td>0.0</td>\n",
       "      <td>0.0</td>\n",
       "    </tr>\n",
       "    <tr>\n",
       "      <th>YearsAtCurrentJob_lt_1</th>\n",
       "      <td>0.0</td>\n",
       "      <td>0.0</td>\n",
       "      <td>0.0</td>\n",
       "      <td>0.0</td>\n",
       "      <td>0.0</td>\n",
       "      <td>0.0</td>\n",
       "      <td>0.0</td>\n",
       "      <td>0.0</td>\n",
       "      <td>0.0</td>\n",
       "      <td>0.0</td>\n",
       "    </tr>\n",
       "    <tr>\n",
       "      <th>YearsAtCurrentJob_geq_4</th>\n",
       "      <td>0.0</td>\n",
       "      <td>0.0</td>\n",
       "      <td>0.0</td>\n",
       "      <td>0.0</td>\n",
       "      <td>0.0</td>\n",
       "      <td>0.0</td>\n",
       "      <td>0.0</td>\n",
       "      <td>0.0</td>\n",
       "      <td>0.0</td>\n",
       "      <td>0.0</td>\n",
       "    </tr>\n",
       "    <tr>\n",
       "      <th>JobClassIsSkilled</th>\n",
       "      <td>0.0</td>\n",
       "      <td>0.0</td>\n",
       "      <td>0.0</td>\n",
       "      <td>0.0</td>\n",
       "      <td>0.0</td>\n",
       "      <td>0.0</td>\n",
       "      <td>0.0</td>\n",
       "      <td>0.0</td>\n",
       "      <td>0.0</td>\n",
       "      <td>0.0</td>\n",
       "    </tr>\n",
       "    <tr>\n",
       "      <th>isMale</th>\n",
       "      <td>0.0</td>\n",
       "      <td>0.0</td>\n",
       "      <td>0.0</td>\n",
       "      <td>0.0</td>\n",
       "      <td>0.0</td>\n",
       "      <td>0.0</td>\n",
       "      <td>0.0</td>\n",
       "      <td>0.0</td>\n",
       "      <td>0.0</td>\n",
       "      <td>0.0</td>\n",
       "    </tr>\n",
       "  </tbody>\n",
       "</table>\n",
       "</div>"
      ],
      "text/plain": [
       "                                   0     1    2     3    4     5    6     7  \\\n",
       "ForeignWorker                    0.0   0.0  0.0   0.0  0.0   0.0  0.0   0.0   \n",
       "Single                           0.0   0.0  0.0   0.0  0.0   0.0  0.0   0.0   \n",
       "Age                              0.0   0.0  0.0   0.0  0.0   0.0  0.0   0.0   \n",
       "LoanDuration                     0.0   0.0 -1.0  -1.0  0.0   0.0 -1.0  -1.0   \n",
       "LoanAmount                       0.0 -12.0  0.0 -12.0  0.0 -12.0  0.0 -12.0   \n",
       "LoanRateAsPercentOfIncome        0.0   0.0  0.0   0.0  0.0   0.0  0.0   0.0   \n",
       "YearsAtCurrentHome               0.0   0.0  0.0   0.0  0.0   0.0  0.0   0.0   \n",
       "NumberOfOtherLoansAtBank         0.0   0.0  0.0   0.0  0.0   0.0  0.0   0.0   \n",
       "NumberOfLiableIndividuals        0.0   0.0  0.0   0.0  1.0   1.0  1.0   1.0   \n",
       "HasTelephone                     0.0   0.0  0.0   0.0  0.0   0.0  0.0   0.0   \n",
       "CheckingAccountBalance_geq_0     0.0   0.0  0.0   0.0  0.0   0.0  0.0   0.0   \n",
       "CheckingAccountBalance_geq_200   1.0   1.0  1.0   1.0  1.0   1.0  1.0   1.0   \n",
       "SavingsAccountBalance_geq_100    0.0   0.0  0.0   0.0  0.0   0.0  0.0   0.0   \n",
       "SavingsAccountBalance_geq_500    1.0   1.0  1.0   1.0  1.0   1.0  1.0   1.0   \n",
       "MissedPayments                   0.0   0.0  0.0   0.0  0.0   0.0  0.0   0.0   \n",
       "NoCurrentLoan                    0.0   0.0  0.0   0.0  0.0   0.0  0.0   0.0   \n",
       "CriticalAccountOrLoansElsewhere  0.0   0.0  0.0   0.0  0.0   0.0  0.0   0.0   \n",
       "OtherLoansAtBank                 0.0   0.0  0.0   0.0  0.0   0.0  0.0   0.0   \n",
       "HasCoapplicant                   0.0   0.0  0.0   0.0  0.0   0.0  0.0   0.0   \n",
       "HasGuarantor                     1.0   1.0  1.0   1.0  1.0   1.0  1.0   1.0   \n",
       "OwnsHouse                        0.0   0.0  0.0   0.0  0.0   0.0  0.0   0.0   \n",
       "RentsHouse                       0.0   0.0  0.0   0.0  0.0   0.0  0.0   0.0   \n",
       "Unemployed                       0.0   0.0  0.0   0.0  0.0   0.0  0.0   0.0   \n",
       "YearsAtCurrentJob_lt_1           0.0   0.0  0.0   0.0  0.0   0.0  0.0   0.0   \n",
       "YearsAtCurrentJob_geq_4          0.0   0.0  0.0   0.0  0.0   0.0  0.0   0.0   \n",
       "JobClassIsSkilled                0.0   0.0  0.0   0.0  0.0   0.0  0.0   0.0   \n",
       "isMale                           0.0   0.0  0.0   0.0  0.0   0.0  0.0   0.0   \n",
       "\n",
       "                                     8      9  \n",
       "ForeignWorker                      0.0    0.0  \n",
       "Single                             0.0    0.0  \n",
       "Age                                0.0    0.0  \n",
       "LoanDuration                      -4.0   -5.0  \n",
       "LoanAmount                      -840.0 -840.0  \n",
       "LoanRateAsPercentOfIncome          0.0    0.0  \n",
       "YearsAtCurrentHome                 0.0    0.0  \n",
       "NumberOfOtherLoansAtBank           0.0    0.0  \n",
       "NumberOfLiableIndividuals          1.0    0.0  \n",
       "HasTelephone                       0.0    0.0  \n",
       "CheckingAccountBalance_geq_0       0.0    0.0  \n",
       "CheckingAccountBalance_geq_200     0.0    0.0  \n",
       "SavingsAccountBalance_geq_100      0.0    0.0  \n",
       "SavingsAccountBalance_geq_500      1.0    1.0  \n",
       "MissedPayments                     0.0    0.0  \n",
       "NoCurrentLoan                      0.0    0.0  \n",
       "CriticalAccountOrLoansElsewhere    0.0    0.0  \n",
       "OtherLoansAtBank                   0.0    0.0  \n",
       "HasCoapplicant                     0.0    0.0  \n",
       "HasGuarantor                       1.0    1.0  \n",
       "OwnsHouse                          0.0    0.0  \n",
       "RentsHouse                         0.0    0.0  \n",
       "Unemployed                         0.0    0.0  \n",
       "YearsAtCurrentJob_lt_1             0.0    0.0  \n",
       "YearsAtCurrentJob_geq_4            0.0    0.0  \n",
       "JobClassIsSkilled                  0.0    0.0  \n",
       "isMale                             0.0    0.0  "
      ]
     },
     "metadata": {},
     "output_type": "display_data"
    }
   ],
   "source": [
    "# pd.Series(output_1['actions'], index=X.columns).to_frame('Actions')\n",
    "actions = [x['actions'] for x in all_info]\n",
    "actions_df = pd.DataFrame(data=actions).transpose().set_index(X.columns)\n",
    "person = (pd.Series(x, index=X.columns))\n",
    "print(person)\n",
    "display(actions_df)"
   ]
  },
  {
   "cell_type": "markdown",
   "metadata": {},
   "source": [
    "Ok, so let's read this. \n",
    "\n",
    "* `SavingsAccountBalance_geq_100`$=1$, for example. This was a binary feature, so it can only be $1$. This also means that we're enouraging this person to increase their savings. \n",
    "* `LoanDuration`$=20$. This, if we recall, was the number of months of loan. This means we're encouraging this person to reapply but specify that their loan repayment period is 20 months shorter.\n",
    "\n",
    "Let's check if these two actions make sense in the context of this person:"
   ]
  },
  {
   "cell_type": "code",
   "execution_count": null,
   "metadata": {},
   "outputs": [],
   "source": [
    "X.loc[denied_individuals[0]].to_frame(\"Original Features\")"
   ]
  },
  {
   "cell_type": "markdown",
   "metadata": {},
   "source": [
    "Ok, this person originally applied with no savings and with a 4-year repayment period. So asking them to get savings and decrease their loan repayment period by $20$ months make sense as actions.\n",
    "\n",
    "(Let's leave aside the question of mutually exclusive features (eg. `SavingsAccountBalance_geq_100` $=0$, `SavingsAccountBalance_geq_500`$=1$). We'll get back to that in later releases.)"
   ]
  },
  {
   "cell_type": "markdown",
   "metadata": {},
   "source": [
    "Let's close by noting some things:\n",
    "\n",
    "* Immutable features are __not__ changed. That's good. That's recourse.\n",
    "* The changes make sense, at least directionally. We'd encourage this person to get a gaurantor, to decrease their loan amount, and to decrease their loan period, among other changes.\n",
    "\n",
    "Yes, these might be hard for someone. They might have other reasons for immutability that we're not considering. Maybe they _need_ that amount and cannot change. Ok, let's express that:"
   ]
  },
  {
   "cell_type": "code",
   "execution_count": null,
   "metadata": {},
   "outputs": [],
   "source": [
    "action_set['LoanAmount'].mutable=False"
   ]
  },
  {
   "cell_type": "code",
   "execution_count": null,
   "metadata": {},
   "outputs": [],
   "source": [
    "x = X.values[denied_individuals[0]]\n",
    "\n",
    "p = .8\n",
    "rb = RecourseBuilder(\n",
    "      optimizer=\"cbc\",\n",
    "      coefficients=coefficients,\n",
    "      intercept=intercept- (np.log(p / (1. - p))),\n",
    "      action_set=action_set,\n",
    "      x=x\n",
    ")"
   ]
  },
  {
   "cell_type": "code",
   "execution_count": null,
   "metadata": {},
   "outputs": [],
   "source": [
    "output_2 = rb.fit()\n",
    "output_2"
   ]
  },
  {
   "cell_type": "markdown",
   "metadata": {},
   "source": [
    "Ok, so their total cost actually didn't change, which is nice. Let's take a look at their new action set:"
   ]
  },
  {
   "cell_type": "code",
   "execution_count": null,
   "metadata": {},
   "outputs": [],
   "source": [
    "pd.Series(output_2['actions'], index=X.columns).to_frame(\"New Actions\")"
   ]
  },
  {
   "cell_type": "markdown",
   "metadata": {},
   "source": [
    "Ok, by decreasing their repayment period by a bit more and changing some other features, this person can still ask for the same amount. That's good.\n",
    "\n",
    "The magical thing about both of these action sets is that this person, if they do this, _will_ qualify for a loan. Let's check that:"
   ]
  },
  {
   "cell_type": "code",
   "execution_count": null,
   "metadata": {},
   "outputs": [],
   "source": [
    "clf.predict_proba([X.loc[denied_individuals[0]] + pd.Series(output_1['actions'], index=X.columns)])[:, 1]"
   ]
  },
  {
   "cell_type": "code",
   "execution_count": null,
   "metadata": {},
   "outputs": [],
   "source": [
    "clf.predict_proba([X.loc[denied_individuals[0]] + pd.Series(output_2['actions'], index=X.columns)])[:, 1]"
   ]
  },
  {
   "cell_type": "markdown",
   "metadata": {},
   "source": [
    "And there we have it. By making these tweaks, this person has two ways to get over the $.8$ threshold that we've set. This period can now get approved under this model."
   ]
  }
 ],
 "metadata": {
  "kernelspec": {
   "display_name": "Python 3",
   "language": "python",
   "name": "python3"
  },
  "language_info": {
   "codemirror_mode": {
    "name": "ipython",
    "version": 3
   },
   "file_extension": ".py",
   "mimetype": "text/x-python",
   "name": "python",
   "nbconvert_exporter": "python",
   "pygments_lexer": "ipython3",
   "version": "3.6.7"
  }
 },
 "nbformat": 4,
 "nbformat_minor": 2
}
